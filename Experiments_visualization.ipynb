{
 "cells": [
  {
   "cell_type": "markdown",
   "metadata": {},
   "source": [
    "# Experiments\n",
    "\n",
    "We evaluate our online classifier through two experiments to determine their performance and\n",
    "their robustness to mislabeled data. In these experiments, we use five publicly available\n",
    "datasets that contain sEMG data of hand gestures and three feature sets. We make publicly available the code (shown\n",
    "in the supplementary material) of this empirical evaluation to easily compare our approach with future approaches in this field."
   ]
  },
  {
   "cell_type": "markdown",
   "metadata": {},
   "source": [
    "First: Import the library developed to visualize the results"
   ]
  },
  {
   "cell_type": "code",
   "execution_count": 1,
   "metadata": {
    "pycharm": {
     "name": "#%%\n"
    }
   },
   "outputs": [],
   "source": [
    "import Experiments.analysis_experiments as analysis_experiments"
   ]
  },
  {
   "cell_type": "markdown",
   "metadata": {},
   "source": [
    "## Experiment 1\n",
    "\n",
    "To evaluate the performance of our approach, we define five DA classifiers (LDA/QDA): initial (baseline), online\n",
    "classifier using labels and pseudo-labels through our soft-labeling, Nigam's soft-labeling,\n",
    "and thresholding techniques.\n",
    "\n",
    "The **initial classifier** is a DA classifier trained over a dataset $\\mathcal{I}$ that has one gesture per class.\n",
    "The **online classifier using labels and pseudo-labels** is a DA classifier initially trained over the set $\\mathcal{I}$\n",
    "and sequentially updated *with labeled gestures* and *with pseudo-labeled gestures* by our soft-labeling technique\n",
    ", respectively.\n",
    "The **Nigam-based classifier** is the online classifier updated with pseudo-labeled gestures using Nigam's soft-labeling.\n",
    "In this technique, a gesture is pseudo-labeled using the conditional posterior probability $p_{(c,t)}$\n",
    "multiplied by a parameter $\\lambda$ that decreases the contribution of this probability to minimize the error of\n",
    "gestures incorrectly pseudo-labeled. The parameter $\\lambda$ is in the interval $[0,1]$.\n",
    "The **thresholding-based classifier** is also the online classifier updated with pseudo-labeled gestures using the\n",
    "thresholding technique that is commonly used in self-training learning. In this technique, a gesture is labeled based\n",
    "on the probability $p_{(c,t)}$. If this probability is greater than a threshold $\\tau$, then this pseudo-labeled gesture\n",
    "is used to update the classifier.\n",
    "\n",
    "In this experiment, we determine the best parameters $\\lambda$ and $\\tau$ for each dataset and feature set from the set\n",
    " $\\{0,0.1,\\cdots, 1\\}$ using grid search optimization."
   ]
  },
  {
   "cell_type": "code",
   "execution_count": 2,
   "metadata": {
    "pycharm": {
     "name": "#%%\n"
    }
   },
   "outputs": [
    {
     "name": "stdout",
     "output_type": "stream",
     "text": [
      "\n",
      "FEATURE 1: Nina5\n",
      "Best parameter λ (for Nigam-based classifier) is 0.6. Accuracy Difference (wrt initial classifier)=1.9\n",
      "Best parameter λ (for Nigam-based classifier) is 1.0. Accuracy Difference (wrt initial classifier)=12.74\n",
      "Best parameter τ (for thresholding-based classifier) is 0.4. Accuracy Difference (wrt initial classifier)=2.72\n",
      "Best parameter τ (for thresholding-based classifier) is 0.0. Accuracy Difference (wrt initial classifier)=8.29\n",
      "FEATURE 2: Nina5\n",
      "Best parameter λ (for Nigam-based classifier) is 1.0. Accuracy Difference (wrt initial classifier)=5.11\n",
      "Best parameter λ (for Nigam-based classifier) is 1.0. Accuracy Difference (wrt initial classifier)=-4.06\n",
      "Best parameter τ (for thresholding-based classifier) is 0.3. Accuracy Difference (wrt initial classifier)=6.05\n",
      "Best parameter τ (for thresholding-based classifier) is 0.3. Accuracy Difference (wrt initial classifier)=-13.12\n",
      "FEATURE 3: Nina5\n",
      "Best parameter λ (for Nigam-based classifier) is 1.0. Accuracy Difference (wrt initial classifier)=5.01\n",
      "Best parameter λ (for Nigam-based classifier) is 1.0. Accuracy Difference (wrt initial classifier)=-3.28\n",
      "Best parameter τ (for thresholding-based classifier) is 0.3. Accuracy Difference (wrt initial classifier)=5.83\n",
      "Best parameter τ (for thresholding-based classifier) is 0.4. Accuracy Difference (wrt initial classifier)=-9.26\n",
      "\n",
      "FEATURE 1: Capgmyo_dbb\n",
      "Best parameter λ (for Nigam-based classifier) is 1.0. Accuracy Difference (wrt initial classifier)=5.65\n",
      "Best parameter λ (for Nigam-based classifier) is 1.0. Accuracy Difference (wrt initial classifier)=5.13\n",
      "Best parameter τ (for thresholding-based classifier) is 0.5. Accuracy Difference (wrt initial classifier)=5.56\n",
      "Best parameter τ (for thresholding-based classifier) is 0.0. Accuracy Difference (wrt initial classifier)=2.78\n",
      "FEATURE 2: Capgmyo_dbb\n",
      "Best parameter λ (for Nigam-based classifier) is 1.0. Accuracy Difference (wrt initial classifier)=5.94\n",
      "Best parameter λ (for Nigam-based classifier) is 1.0. Accuracy Difference (wrt initial classifier)=-4.12\n",
      "Best parameter τ (for thresholding-based classifier) is 0.5. Accuracy Difference (wrt initial classifier)=5.82\n",
      "Best parameter τ (for thresholding-based classifier) is 0.5. Accuracy Difference (wrt initial classifier)=-5.46\n",
      "FEATURE 3: Capgmyo_dbb\n",
      "Best parameter λ (for Nigam-based classifier) is 1.0. Accuracy Difference (wrt initial classifier)=6.38\n",
      "Best parameter λ (for Nigam-based classifier) is 0.8. Accuracy Difference (wrt initial classifier)=0.67\n",
      "Best parameter τ (for thresholding-based classifier) is 0.0. Accuracy Difference (wrt initial classifier)=6.04\n",
      "Best parameter τ (for thresholding-based classifier) is 0.7. Accuracy Difference (wrt initial classifier)=-0.46\n",
      "\n",
      "FEATURE 1: Cote\n",
      "Best parameter λ (for Nigam-based classifier) is 0.7. Accuracy Difference (wrt initial classifier)=1.4\n",
      "Best parameter λ (for Nigam-based classifier) is 1.0. Accuracy Difference (wrt initial classifier)=4.77\n",
      "Best parameter τ (for thresholding-based classifier) is 0.7. Accuracy Difference (wrt initial classifier)=1.47\n",
      "Best parameter τ (for thresholding-based classifier) is 0.5. Accuracy Difference (wrt initial classifier)=4.64\n",
      "FEATURE 2: Cote\n",
      "Best parameter λ (for Nigam-based classifier) is 0.7. Accuracy Difference (wrt initial classifier)=2.27\n",
      "Best parameter λ (for Nigam-based classifier) is 1.0. Accuracy Difference (wrt initial classifier)=8.25\n",
      "Best parameter τ (for thresholding-based classifier) is 0.0. Accuracy Difference (wrt initial classifier)=2.21\n",
      "Best parameter τ (for thresholding-based classifier) is 0.4. Accuracy Difference (wrt initial classifier)=6.14\n",
      "FEATURE 3: Cote\n",
      "Best parameter λ (for Nigam-based classifier) is 1.0. Accuracy Difference (wrt initial classifier)=1.92\n",
      "Best parameter λ (for Nigam-based classifier) is 1.0. Accuracy Difference (wrt initial classifier)=4.82\n",
      "Best parameter τ (for thresholding-based classifier) is 0.7. Accuracy Difference (wrt initial classifier)=1.82\n",
      "Best parameter τ (for thresholding-based classifier) is 0.5. Accuracy Difference (wrt initial classifier)=4.85\n",
      "\n",
      "FEATURE 1: LongTerm3DC\n",
      "Best parameter λ (for Nigam-based classifier) is 1.0. Accuracy Difference (wrt initial classifier)=0.93\n",
      "Best parameter λ (for Nigam-based classifier) is 1.0. Accuracy Difference (wrt initial classifier)=2.59\n",
      "Best parameter τ (for thresholding-based classifier) is 0.8. Accuracy Difference (wrt initial classifier)=0.74\n",
      "Best parameter τ (for thresholding-based classifier) is 0.4. Accuracy Difference (wrt initial classifier)=0.62\n",
      "FEATURE 2: LongTerm3DC\n",
      "Best parameter λ (for Nigam-based classifier) is 1.0. Accuracy Difference (wrt initial classifier)=1.85\n",
      "Best parameter λ (for Nigam-based classifier) is 1.0. Accuracy Difference (wrt initial classifier)=-2.02\n",
      "Best parameter τ (for thresholding-based classifier) is 0.6. Accuracy Difference (wrt initial classifier)=1.16\n",
      "Best parameter τ (for thresholding-based classifier) is 0.3. Accuracy Difference (wrt initial classifier)=-4.62\n",
      "FEATURE 3: LongTerm3DC\n",
      "Best parameter λ (for Nigam-based classifier) is 1.0. Accuracy Difference (wrt initial classifier)=1.81\n",
      "Best parameter λ (for Nigam-based classifier) is 0.1. Accuracy Difference (wrt initial classifier)=-2.29\n",
      "Best parameter τ (for thresholding-based classifier) is 0.6. Accuracy Difference (wrt initial classifier)=1.21\n",
      "Best parameter τ (for thresholding-based classifier) is 0.3. Accuracy Difference (wrt initial classifier)=-3.78\n",
      "\n",
      "FEATURE 1: EPN_120\n",
      "Best parameter λ (for Nigam-based classifier) is 1.0. Accuracy Difference (wrt initial classifier)=4.96\n",
      "Best parameter λ (for Nigam-based classifier) is 1.0. Accuracy Difference (wrt initial classifier)=14.48\n",
      "Best parameter τ (for thresholding-based classifier) is 0.5. Accuracy Difference (wrt initial classifier)=5.78\n",
      "Best parameter τ (for thresholding-based classifier) is 0.0. Accuracy Difference (wrt initial classifier)=11.24\n",
      "FEATURE 2: EPN_120\n",
      "Best parameter λ (for Nigam-based classifier) is 1.0. Accuracy Difference (wrt initial classifier)=14.81\n",
      "Best parameter λ (for Nigam-based classifier) is 1.0. Accuracy Difference (wrt initial classifier)=11.59\n",
      "Best parameter τ (for thresholding-based classifier) is 0.4. Accuracy Difference (wrt initial classifier)=14.73\n",
      "Best parameter τ (for thresholding-based classifier) is 0.3. Accuracy Difference (wrt initial classifier)=4.84\n",
      "FEATURE 3: EPN_120\n",
      "Best parameter λ (for Nigam-based classifier) is 1.0. Accuracy Difference (wrt initial classifier)=13.17\n",
      "Best parameter λ (for Nigam-based classifier) is 1.0. Accuracy Difference (wrt initial classifier)=13.74\n",
      "Best parameter τ (for thresholding-based classifier) is 0.3. Accuracy Difference (wrt initial classifier)=13.22\n",
      "Best parameter τ (for thresholding-based classifier) is 0.0. Accuracy Difference (wrt initial classifier)=7.33\n"
     ]
    }
   ],
   "source": [
    "analysis_experiments.experiment1(best_parameters_Nigam_thresholding=True)"
   ]
  },
  {
   "cell_type": "markdown",
   "metadata": {
    "pycharm": {
     "name": "#%% md\n"
    }
   },
   "source": [
    "For the five DA classifiers, the following figure shows the average classification accuracy of the users in the five\n",
    "datasets using the three feature sets described above.\n",
    "To determine if the accuracy differences between the methods tested are statistically significant, we use the 2-tailed\n",
    "Wilcoxon signed ranks test at $p_{value}<0.5$.\n",
    "As we excepted, the accuracy of the online classifier using labels is higher than the accuracy of the other classifiers\n",
    "that use pseudo-labeled gestures. Note that this accuracy is equal to the accuracy of a DA classifier trained with all\n",
    "data (the initial set $\\mathcal{I}$ and all labeled gestures) in full batch fashion, as we established in Theorem 1.\n",
    "The accuracies of the online classifier using labels and pseudo-labels are higher than the accuracy of the initial\n",
    "classifier, so the updating proposed by us improves the performance of a DA classifier trained with few samples (one gesture per class).\n",
    "In contrast, the Nigam-based and thresholding-based classifiers perform worse than the initial classifier when the\n",
    "DA classifier is QDA as we can see, for example, in NinaPro5 and Long-Term 3DC using the feature sets FS2 and FS3, and\n",
    "in Capgmyo\\_dbb using the feature set FS2.\n"
   ]
  },
  {
   "cell_type": "code",
   "execution_count": 3,
   "metadata": {
    "pycharm": {
     "name": "#%%\n"
    }
   },
   "outputs": [
    {
     "name": "stdout",
     "output_type": "stream",
     "text": [
      "\n",
      "ANALYSIS WILCOXON (CONFIDENCE LEVEL 95%) shows the accuracy of two classifiers that come from the same distribution (Nina5): \n",
      "\n",
      "FEATURE 1: Nina5\n",
      "p value 0.9854354858398438 , LDA_oursusing pseudo-labels and LDA_ours_threshold_0.4 and comes from the same distribution\n",
      "\n",
      "FEATURE 2: Nina5\n"
     ]
    },
    {
     "name": "stderr",
     "output_type": "stream",
     "text": [
      "C:\\ProgramData\\Anaconda3\\envs\\env39\\lib\\site-packages\\scipy\\stats\\morestats.py:3141: UserWarning: Exact p-value calculation does not work if there are ties. Switching to normal approximation.\n",
      "  warnings.warn(\"Exact p-value calculation does not work if there are \"\n"
     ]
    },
    {
     "name": "stdout",
     "output_type": "stream",
     "text": [
      "p value 0.3117942810058594 , LDA_oursusing pseudo-labels and LDA_ours_threshold_0.3 and comes from the same distribution\n",
      "p value 0.7841262817382812 , QDA_oursusing pseudo-labels and QDA_weak and comes from the same distribution\n",
      "p value = 0.7841262817382812 , QDA_initial_classifier and QDA_ours_soft_labels come from the same distribution\n",
      "p value = 0.7285060882568359 , QDA_initial_classifier and QDA_ours_probs_1.0 come from the same distribution\n",
      "p value 0.1230926513671875 , QDA_oursusing pseudo-labels and QDA_ours_probs_1.0 and comes from the same distribution\n",
      "\n",
      "FEATURE 3: Nina5\n",
      "p value 0.14290618896484375 , LDA_oursusing pseudo-labels and LDA_ours_threshold_0.3 and comes from the same distribution\n",
      "\n",
      "ANALYSIS WILCOXON (CONFIDENCE LEVEL 95%) shows the accuracy of two classifiers that come from the same distribution (Capgmyo_dbb): \n",
      "\n",
      "FEATURE 1: Capgmyo_dbb\n",
      "p value 0.506996170454357 , LDA_oursusing pseudo-labels and LDA_ours_probs_1.0 and comes from the same distribution\n",
      "p value 0.9412383091320182 , LDA_oursusing pseudo-labels and LDA_ours_threshold_0.5 and comes from the same distribution\n",
      "\n",
      "FEATURE 2: Capgmyo_dbb\n",
      "p value 0.9061928202383859 , LDA_oursusing pseudo-labels and LDA_ours_probs_1.0 and comes from the same distribution\n",
      "p value 0.8268342101798088 , LDA_oursusing pseudo-labels and LDA_ours_threshold_0.5 and comes from the same distribution\n",
      "\n",
      "FEATURE 3: Capgmyo_dbb\n",
      "p value 0.37047409261896025 , LDA_oursusing pseudo-labels and LDA_ours_threshold_0.0 and comes from the same distribution\n",
      "p value = 0.31499483027906106 , QDA_initial_classifier and QDA_ours_probs_0.8 come from the same distribution\n",
      "p value = 0.675460813735282 , QDA_initial_classifier and QDA_ours_threshold_0.7 come from the same distribution\n",
      "\n",
      "ANALYSIS WILCOXON (CONFIDENCE LEVEL 95%) shows the accuracy of two classifiers that come from the same distribution (Cote): \n",
      "\n",
      "FEATURE 1: Cote\n",
      "p value 0.132861236687201 , LDA_oursusing pseudo-labels and LDA_ours_labels and comes from the same distribution\n",
      "p value 0.6575663850187541 , QDA_oursusing pseudo-labels and QDA_ours_probs_1.0 and comes from the same distribution\n",
      "p value 0.6732787363156975 , QDA_oursusing pseudo-labels and QDA_ours_threshold_0.5 and comes from the same distribution\n",
      "p value 0.3744792736563748 , QDA_oursusing pseudo-labels and QDA_ours_labels and comes from the same distribution\n",
      "\n",
      "FEATURE 2: Cote\n",
      "p value 0.3359328511803926 , LDA_oursusing pseudo-labels and LDA_ours_probs_0.7 and comes from the same distribution\n",
      "p value 0.6435165948165775 , LDA_oursusing pseudo-labels and LDA_ours_threshold_0.0 and comes from the same distribution\n",
      "p value 0.4366330161611942 , QDA_oursusing pseudo-labels and QDA_ours_labels and comes from the same distribution\n",
      "\n",
      "FEATURE 3: Cote\n",
      "p value 0.32814280480777647 , LDA_oursusing pseudo-labels and LDA_ours_probs_1.0 and comes from the same distribution\n",
      "p value 0.6829616948348547 , LDA_oursusing pseudo-labels and LDA_ours_threshold_0.7 and comes from the same distribution\n",
      "p value 0.11281874216705877 , LDA_oursusing pseudo-labels and LDA_ours_labels and comes from the same distribution\n",
      "\n",
      "ANALYSIS WILCOXON (CONFIDENCE LEVEL 95%) shows the accuracy of two classifiers that come from the same distribution (LongTerm3DC): \n",
      "\n",
      "FEATURE 1: LongTerm3DC\n",
      "p value 0.16434084243582547 , LDA_oursusing pseudo-labels and LDA_ours_probs_1.0 and comes from the same distribution\n",
      "p value = 0.13176969837471053 , QDA_initial_classifier and QDA_ours_threshold_0.4 come from the same distribution\n",
      "\n",
      "FEATURE 2: LongTerm3DC\n",
      "\n",
      "FEATURE 3: LongTerm3DC\n",
      "p value 0.2540662583957104 , LDA_oursusing pseudo-labels and LDA_ours_probs_1.0 and comes from the same distribution\n",
      "\n",
      "ANALYSIS WILCOXON (CONFIDENCE LEVEL 95%) shows the accuracy of two classifiers that come from the same distribution (EPN_120): \n",
      "\n",
      "FEATURE 1: EPN_120\n",
      "p value 0.05464694846814326 , LDA_oursusing pseudo-labels and LDA_ours_probs_1.0 and comes from the same distribution\n",
      "\n",
      "FEATURE 2: EPN_120\n",
      "\n",
      "FEATURE 3: EPN_120\n"
     ]
    },
    {
     "data": {
      "text/plain": "<Figure size 576x792 with 5 Axes>",
      "image/png": "[encoded data removed]"
     },
     "metadata": {
      "needs_background": "light"
     },
     "output_type": "display_data"
    }
   ],
   "source": [
    "analysis_experiments.experiment1(graph_acc=True)"
   ]
  },
  {
   "cell_type": "markdown",
   "metadata": {
    "pycharm": {
     "name": "#%% md\n"
    }
   },
   "source": [
    "We also perform the analysis of time of the batch classifier using labels and our online classifier using labels and pseudo-labels."
   ]
  },
  {
   "cell_type": "code",
   "execution_count": 4,
   "metadata": {
    "pycharm": {
     "name": "#%%\n"
    }
   },
   "outputs": [
    {
     "name": "stdout",
     "output_type": "stream",
     "text": [
      "\n",
      "FEATURE 1: Nina5\n",
      "time[s]: LDA_batch 439.06 ± 27.07\n",
      "time[s]: LDA_ours_soft_labels 0.99 ± 0.15\n",
      "time[s]: LDA_ours_labels 0.69 ± 0.04\n",
      "time[s]: QDA_batch 437.53 ± 27.07\n",
      "time[s]: QDA_ours_soft_labels 0.42 ± 0.19\n",
      "time[s]: QDA_ours_labels 0.08 ± 0.0\n",
      "\n",
      "FEATURE 2: Nina5\n",
      "time[s]: LDA_batch 524.69 ± 40.06\n",
      "time[s]: LDA_ours_soft_labels 1.25 ± 0.19\n",
      "time[s]: LDA_ours_labels 0.9 ± 0.04\n",
      "time[s]: QDA_batch 523.07 ± 40.04\n",
      "time[s]: QDA_ours_soft_labels 0.46 ± 0.17\n",
      "time[s]: QDA_ours_labels 0.09 ± 0.01\n",
      "\n",
      "FEATURE 3: Nina5\n",
      "time[s]: LDA_batch 523.24 ± 43.38\n",
      "time[s]: LDA_ours_soft_labels 1.23 ± 0.22\n",
      "time[s]: LDA_ours_labels 0.89 ± 0.05\n",
      "time[s]: QDA_batch 521.6 ± 43.33\n",
      "time[s]: QDA_ours_soft_labels 0.44 ± 0.19\n",
      "time[s]: QDA_ours_labels 0.1 ± 0.01\n",
      "\n",
      "FEATURE 1: Capgmyo_dbb\n",
      "time[s]: LDA_batch 77.21 ± 3.39\n",
      "time[s]: LDA_ours_soft_labels 0.79 ± 0.07\n",
      "time[s]: LDA_ours_labels 0.68 ± 0.06\n",
      "time[s]: QDA_batch 75.8 ± 3.35\n",
      "time[s]: QDA_ours_soft_labels 0.19 ± 0.07\n",
      "time[s]: QDA_ours_labels 0.08 ± 0.01\n",
      "\n",
      "FEATURE 2: Capgmyo_dbb\n",
      "time[s]: LDA_batch 83.66 ± 4.33\n",
      "time[s]: LDA_ours_soft_labels 0.83 ± 0.09\n",
      "time[s]: LDA_ours_labels 0.69 ± 0.07\n",
      "time[s]: QDA_batch 82.23 ± 4.29\n",
      "time[s]: QDA_ours_soft_labels 0.23 ± 0.09\n",
      "time[s]: QDA_ours_labels 0.08 ± 0.01\n",
      "\n",
      "FEATURE 3: Capgmyo_dbb\n",
      "time[s]: LDA_batch 86.54 ± 5.84\n",
      "time[s]: LDA_ours_soft_labels 0.86 ± 0.09\n",
      "time[s]: LDA_ours_labels 0.71 ± 0.05\n",
      "time[s]: QDA_batch 85.11 ± 5.8\n",
      "time[s]: QDA_ours_soft_labels 0.24 ± 0.09\n",
      "time[s]: QDA_ours_labels 0.09 ± 0.01\n",
      "\n",
      "FEATURE 1: Cote\n",
      "time[s]: LDA_batch 489.87 ± 21.63\n",
      "time[s]: LDA_ours_soft_labels 0.78 ± 0.05\n",
      "time[s]: LDA_ours_labels 0.62 ± 0.02\n",
      "time[s]: QDA_batch 488.46 ± 21.59\n",
      "time[s]: QDA_ours_soft_labels 0.17 ± 0.06\n",
      "time[s]: QDA_ours_labels 0.07 ± 0.0\n",
      "\n",
      "FEATURE 2: Cote\n",
      "time[s]: LDA_batch 526.97 ± 28.46\n",
      "time[s]: LDA_ours_soft_labels 0.8 ± 0.04\n",
      "time[s]: LDA_ours_labels 0.65 ± 0.02\n",
      "time[s]: QDA_batch 525.52 ± 28.45\n",
      "time[s]: QDA_ours_soft_labels 0.19 ± 0.08\n",
      "time[s]: QDA_ours_labels 0.08 ± 0.0\n",
      "\n",
      "FEATURE 3: Cote\n",
      "time[s]: LDA_batch 532.9 ± 26.68\n",
      "time[s]: LDA_ours_soft_labels 0.85 ± 0.07\n",
      "time[s]: LDA_ours_labels 0.67 ± 0.03\n",
      "time[s]: QDA_batch 531.38 ± 26.66\n",
      "time[s]: QDA_ours_soft_labels 0.19 ± 0.07\n",
      "time[s]: QDA_ours_labels 0.08 ± 0.01\n",
      "\n",
      "FEATURE 1: LongTerm3DC\n",
      "time[s]: LDA_batch 181.33 ± 8.96\n",
      "time[s]: LDA_ours_soft_labels 0.9 ± 0.09\n",
      "time[s]: LDA_ours_labels 0.73 ± 0.05\n",
      "time[s]: QDA_batch 179.85 ± 8.94\n",
      "time[s]: QDA_ours_soft_labels 0.24 ± 0.1\n",
      "time[s]: QDA_ours_labels 0.08 ± 0.01\n",
      "\n",
      "FEATURE 2: LongTerm3DC\n",
      "time[s]: LDA_batch 198.33 ± 8.26\n",
      "time[s]: LDA_ours_soft_labels 0.94 ± 0.09\n",
      "time[s]: LDA_ours_labels 0.77 ± 0.06\n",
      "time[s]: QDA_batch 196.81 ± 8.24\n",
      "time[s]: QDA_ours_soft_labels 0.28 ± 0.1\n",
      "time[s]: QDA_ours_labels 0.09 ± 0.01\n",
      "\n",
      "FEATURE 3: LongTerm3DC\n",
      "time[s]: LDA_batch 198.5 ± 7.87\n",
      "time[s]: LDA_ours_soft_labels 0.95 ± 0.1\n",
      "time[s]: LDA_ours_labels 0.79 ± 0.06\n",
      "time[s]: QDA_batch 196.96 ± 7.85\n",
      "time[s]: QDA_ours_soft_labels 0.26 ± 0.1\n",
      "time[s]: QDA_ours_labels 0.09 ± 0.01\n",
      "\n",
      "FEATURE 1: EPN_120\n",
      "time[s]: LDA_batch 611.42 ± 200.34\n",
      "time[s]: LDA_ours_soft_labels 1.88 ± 4.41\n",
      "time[s]: LDA_ours_labels 1.32 ± 3.62\n",
      "time[s]: QDA_batch 608.3 ± 199.37\n",
      "time[s]: QDA_ours_soft_labels 0.48 ± 2.24\n",
      "time[s]: QDA_ours_labels 0.08 ± 0.01\n",
      "\n",
      "FEATURE 2: EPN_120\n",
      "time[s]: LDA_batch 676.62 ± 219.69\n",
      "time[s]: LDA_ours_soft_labels 1.84 ± 4.23\n",
      "time[s]: LDA_ours_labels 1.77 ± 4.57\n",
      "time[s]: QDA_batch 672.41 ± 219.36\n",
      "time[s]: QDA_ours_soft_labels 0.54 ± 2.33\n",
      "time[s]: QDA_ours_labels 0.08 ± 0.01\n",
      "\n",
      "FEATURE 3: EPN_120\n",
      "time[s]: LDA_batch 662.59 ± 201.74\n",
      "time[s]: LDA_ours_soft_labels 1.88 ± 4.27\n",
      "time[s]: LDA_ours_labels 1.09 ± 2.88\n",
      "time[s]: QDA_batch 659.47 ± 201.23\n",
      "time[s]: QDA_ours_soft_labels 0.5 ± 2.24\n",
      "time[s]: QDA_ours_labels 0.17 ± 1.29\n"
     ]
    }
   ],
   "source": [
    "analysis_experiments.experiment1(analysis_time=True)"
   ]
  },
  {
   "cell_type": "markdown",
   "metadata": {},
   "source": [
    "## Experiment 2\n",
    "\n",
    "In this experiment, we show the robustness to mislabeled data of our online classifier due to how we calculate the\n",
    " covariance matrix (COV). Traditionally, the COV of the DA classifiers is calculated w.r.t. the mean vector of all\n",
    " gestures, whereas we calculate w.r.t. the mean vectors of each gesture.\n",
    "\n",
    "Concretely, we compare the performance of the weighted batch classifier and a version of this weighted classifier\n",
    "(from now on called traditional classifier), in which the covariance matrix (COV) is calculated w.r.t.\n",
    "the mean vector of all gestures.\n",
    "Note that our online classifier using pseudo-labeled gestures has the same performance as the weighted batch classifier,\n",
    " as shown Theorem 2.\n",
    "\n",
    "We show the accuracy difference of these two compared batch classifiers w.r.t. the initial classifier using labeled\n",
    "and pseudo-labeled gestures as shown in the next figure.\n",
    "When the accuracy of any of these classifiers is higher than the initial classifier, the accuracy difference\n",
    "is positive; otherwise, it is negative.\n",
    "We use the 2-tailed Wilcoxon signed ranks test at $p_{value}<0.5$ to determine if the accuracy differences are\n",
    "statistically significant.\n",
    "When these two batch classifiers use labeled gestures, their performance is similar for LDA and QDA. In contrast,\n",
    "when they use pseudo-labeled gestures, the performance of the weighted batch classifier is significantly higher\n",
    "than the difference of the traditional classifier.\n",
    "In fact, the performance of the traditional classifier is worse than the performance of the initial classifier in several cases."
   ]
  },
  {
   "cell_type": "code",
   "execution_count": 5,
   "metadata": {
    "pycharm": {
     "name": "#%%\n"
    }
   },
   "outputs": [
    {
     "name": "stdout",
     "output_type": "stream",
     "text": [
      "\n",
      "ANALYSIS WILCOXON (CONFIDENCE LEVEL 95%) shows the accuracy of two classifiers that come from the same distribution (Nina5): \n",
      "\n",
      "FEATURE 1: Nina5\n",
      "p value:  0.3117942810058594 , LDA: weighted and traditional batch classifiers using pseudo-labels come from the same distribution\n",
      "p value=  0.6742229461669922 , LDA: weighted and traditional batch classifiers using labels come from the same distribution\n",
      "\n",
      "FEATURE 2: Nina5\n",
      "p value=  0.8408222198486328 , QDA: weighted and traditional batch classifiers using labels come from the same distribution\n",
      "\n",
      "FEATURE 3: Nina5\n",
      "p value=  0.5216732025146484 , QDA: weighted and traditional batch classifiers using labels come from the same distribution\n",
      "\n",
      "ANALYSIS WILCOXON (CONFIDENCE LEVEL 95%) shows the accuracy of two classifiers that come from the same distribution (Capgmyo_dbb): \n",
      "\n",
      "FEATURE 1: Capgmyo_dbb\n",
      "p value=  0.5186995762757332 , QDA: weighted and traditional batch classifiers using labels come from the same distribution\n",
      "\n",
      "FEATURE 2: Capgmyo_dbb\n",
      "p value=  0.05127352900893355 , LDA: weighted and traditional batch classifiers using labels come from the same distribution\n",
      "p value=  0.5407934646543326 , QDA: weighted and traditional batch classifiers using labels come from the same distribution\n",
      "\n",
      "FEATURE 3: Capgmyo_dbb\n",
      "p value=  0.07257441007347816 , LDA: weighted and traditional batch classifiers using labels come from the same distribution\n",
      "p value=  0.1922847281429566 , QDA: weighted and traditional batch classifiers using labels come from the same distribution\n",
      "\n",
      "ANALYSIS WILCOXON (CONFIDENCE LEVEL 95%) shows the accuracy of two classifiers that come from the same distribution (Cote): \n",
      "\n",
      "FEATURE 1: Cote\n",
      "p value=  0.35049563131847306 , LDA: weighted and traditional batch classifiers using labels come from the same distribution\n",
      "p value=  0.32518649095806207 , QDA: weighted and traditional batch classifiers using labels come from the same distribution\n",
      "\n",
      "FEATURE 2: Cote\n",
      "p value=  0.8754242567176749 , LDA: weighted and traditional batch classifiers using labels come from the same distribution\n",
      "p value=  0.5857749837558817 , QDA: weighted and traditional batch classifiers using labels come from the same distribution\n",
      "\n",
      "FEATURE 3: Cote\n",
      "p value=  0.3281623065662794 , LDA: weighted and traditional batch classifiers using labels come from the same distribution\n",
      "p value=  0.9426105124576512 , QDA: weighted and traditional batch classifiers using labels come from the same distribution\n",
      "\n",
      "ANALYSIS WILCOXON (CONFIDENCE LEVEL 95%) shows the accuracy of two classifiers that come from the same distribution (LongTerm3DC): \n",
      "\n",
      "FEATURE 1: LongTerm3DC\n",
      "p value:  0.9509264116930082 , LDA: weighted and traditional batch classifiers using pseudo-labels come from the same distribution\n",
      "\n",
      "FEATURE 2: LongTerm3DC\n",
      "p value:  0.9302662950606848 , LDA: weighted and traditional batch classifiers using pseudo-labels come from the same distribution\n",
      "p value=  0.08524622674182489 , QDA: weighted and traditional batch classifiers using labels come from the same distribution\n",
      "\n",
      "FEATURE 3: LongTerm3DC\n",
      "\n",
      "ANALYSIS WILCOXON (CONFIDENCE LEVEL 95%) shows the accuracy of two classifiers that come from the same distribution (EPN_120): \n",
      "\n",
      "FEATURE 1: EPN_120\n",
      "p value=  0.2858891290534964 , LDA: weighted and traditional batch classifiers using labels come from the same distribution\n",
      "\n",
      "FEATURE 2: EPN_120\n",
      "p value=  0.9932886367973275 , LDA: weighted and traditional batch classifiers using labels come from the same distribution\n",
      "\n",
      "FEATURE 3: EPN_120\n",
      "p value=  0.2599006724426639 , LDA: weighted and traditional batch classifiers using labels come from the same distribution\n"
     ]
    },
    {
     "data": {
      "text/plain": "<Figure size 576x720 with 4 Axes>",
      "image/png": "[encoded data removed]"
     },
     "metadata": {
      "needs_background": "light"
     },
     "output_type": "display_data"
    }
   ],
   "source": [
    "analysis_experiments.experiment2()"
   ]
  },
  {
   "cell_type": "markdown",
   "metadata": {},
   "source": [
    "## Friedman rank test\n",
    "\n",
    "We also perform the Friedman test's average ranks of the three pseudo-labeleing techniques (Nigam's technique, thresholding\n",
    "and our soft-labelling technique) and of the two batch classifiers (weighted and traditional classifiers)."
   ]
  },
  {
   "cell_type": "code",
   "execution_count": 6,
   "metadata": {
    "pycharm": {
     "name": "#%%\n"
    }
   },
   "outputs": [
    {
     "name": "stdout",
     "output_type": "stream",
     "text": [
      "\n",
      "\n",
      "FRIEDMAN TOTAL (CONFIDENCE LEVEL 95%) soft-labelling techniques\n",
      "\n",
      "Type DA classifier: LDA\n",
      "ours_soft_labelling: 2.0\n",
      "Nigam's technique: 2.1\n",
      "thresholding: 1.9\n",
      "\n",
      " The best classifier is:  thresholding\n",
      "                                            p    sig\n",
      "thresholding vs Nigam's technique    0.000008   True\n",
      "thresholding vs ours_soft_labelling  0.055365  False\n",
      "\n",
      "Type DA classifier: QDA\n",
      "ours_soft_labelling: 1.7\n",
      "Nigam's technique: 2.1\n",
      "thresholding: 2.2\n",
      "\n",
      " The best classifier is:  ours_soft_labelling\n",
      "                                            p   sig\n",
      "ours_soft_labelling vs Nigam's technique  0.0  True\n",
      "ours_soft_labelling vs thresholding       0.0  True\n",
      "\n",
      "\n",
      "FRIEDMAN TOTAL (CONFIDENCE LEVEL 95%) batch classifiers\n",
      "\n",
      "Type DA classifier: LDA\n",
      "labels\n",
      "weighted classifier: 1.5\n",
      "traditional classifier: 1.5\n",
      "\n",
      " The best classifier is:  traditional classifier\n",
      "                                                      p    sig\n",
      "traditional classifier vs weighted classifier  0.061532  False\n",
      "\n",
      "Type DA classifier: QDA\n",
      "labels\n",
      "weighted classifier: 1.5\n",
      "traditional classifier: 1.5\n",
      "\n",
      " The best classifier is:  traditional classifier\n",
      "                                                      p   sig\n",
      "traditional classifier vs weighted classifier  0.034556  True\n",
      "\n",
      "Type DA classifier: LDA\n",
      "soft_labels\n",
      "weighted classifier: 1.2\n",
      "traditional classifier: 1.8\n",
      "\n",
      " The best classifier is:  weighted classifier\n",
      "                                                 p   sig\n",
      "weighted classifier vs traditional classifier  0.0  True\n",
      "\n",
      "Type DA classifier: QDA\n",
      "soft_labels\n",
      "weighted classifier: 1.1\n",
      "traditional classifier: 1.9\n",
      "\n",
      " The best classifier is:  weighted classifier\n",
      "                                                 p   sig\n",
      "weighted classifier vs traditional classifier  0.0  True\n"
     ]
    }
   ],
   "source": [
    "analysis_experiments.experiment1(friedman=True)"
   ]
  }
 ],
 "metadata": {
  "colab": {
   "name": "Experiment1_CoteAllard_NoSeg.ipynb",
   "provenance": [],
   "toc_visible": true
  },
  "kernelspec": {
   "display_name": "Python 3",
   "language": "python",
   "name": "python3"
  },
  "language_info": {
   "codemirror_mode": {
    "name": "ipython",
    "version": 3
   },
   "file_extension": ".py",
   "mimetype": "text/x-python",
   "name": "python",
   "nbconvert_exporter": "python",
   "pygments_lexer": "ipython3",
   "version": "3.7.7"
  }
 },
 "nbformat": 4,
 "nbformat_minor": 1
}