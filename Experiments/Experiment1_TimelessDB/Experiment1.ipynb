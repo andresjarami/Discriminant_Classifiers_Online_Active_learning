{
 "cells": [
  {
   "cell_type": "markdown",
   "metadata": {
    "colab_type": "text",
    "id": "zblTFbuCt9aw"
   },
   "source": [
    "# Experiment 1\n",
    "\n",
    "*Feature Set 1 (Hahne):*\n",
    "1. Logarithm of the variance (logVAR)\n",
    "\n",
    "*Feature Set 2 (Hudgins):*\n",
    "1. Mean absolute value (MAV)\n",
    "2. Waveform length (WL)\n",
    "3. Zero Crossing (ZC)\n",
    "4. Slope sign change (SSC)\n",
    "\n",
    "*Feature Set 3 (Phinyomark):*\n",
    "1. L-scale (LS)\n",
    "2. Maximum fractal length (MFL)\n",
    "3. Mean of the square root (MSR)\n",
    "4. Willison amplitude (WAMP)\n",
    "\n"
   ]
  },
  {
   "cell_type": "markdown",
   "metadata": {},
   "source": [
    "## Load Results"
   ]
  },
  {
   "cell_type": "markdown",
   "metadata": {},
   "source": [
    "First: Import the library developed to visualize the results"
   ]
  },
  {
   "cell_type": "code",
   "execution_count": 2,
   "metadata": {},
   "outputs": [],
   "source": [
    "import VisualizationFunctions as VF1\n",
    "import pandas as pd\n",
    "import numpy as np\n",
    "import matplotlib.pyplot as plt\n"
   ]
  },
  {
   "cell_type": "markdown",
   "metadata": {},
   "source": [
    "Load of the DA-based adaptation techniques' results over the three databases (First Research Question)."
   ]
  },
  {
   "cell_type": "code",
   "execution_count": 3,
   "metadata": {
    "scrolled": true
   },
   "outputs": [
    {
     "ename": "FileNotFoundError",
     "evalue": "[Errno 2] File ../../../DA-basedAdaptationTechnique/FewShotLearningEMG/Experiments/Experiment1/ResultsExp1/NinaPro5_FeatureSet_1_startPerson_1_endPerson_1.csv does not exist: '../../../DA-basedAdaptationTechnique/FewShotLearningEMG/Experiments/Experiment1/ResultsExp1/NinaPro5_FeatureSet_1_startPerson_1_endPerson_1.csv'",
     "output_type": "error",
     "traceback": [
      "\u001B[1;31m---------------------------------------------------------------------------\u001B[0m",
      "\u001B[1;31mFileNotFoundError\u001B[0m                         Traceback (most recent call last)",
      "\u001B[1;32m<ipython-input-3-379bd28a221e>\u001B[0m in \u001B[0;36m<module>\u001B[1;34m\u001B[0m\n\u001B[0;32m      3\u001B[0m \u001B[1;31m# Nina Pro 5 database\u001B[0m\u001B[1;33m\u001B[0m\u001B[1;33m\u001B[0m\u001B[1;33m\u001B[0m\u001B[0m\n\u001B[0;32m      4\u001B[0m \u001B[0mdatabase\u001B[0m\u001B[1;33m=\u001B[0m\u001B[1;34m'NinaPro5'\u001B[0m\u001B[1;33m\u001B[0m\u001B[1;33m\u001B[0m\u001B[0m\n\u001B[1;32m----> 5\u001B[1;33m \u001B[0mresultsNinaPro5\u001B[0m\u001B[1;33m,\u001B[0m\u001B[0mtimeNinaPro5\u001B[0m\u001B[1;33m=\u001B[0m\u001B[0mVF1\u001B[0m\u001B[1;33m.\u001B[0m\u001B[0muploadResultsDatabase\u001B[0m\u001B[1;33m(\u001B[0m\u001B[0mplace\u001B[0m\u001B[1;33m,\u001B[0m \u001B[0mdatabase\u001B[0m\u001B[1;33m)\u001B[0m\u001B[1;33m\u001B[0m\u001B[1;33m\u001B[0m\u001B[0m\n\u001B[0m\u001B[0;32m      6\u001B[0m \u001B[1;33m\u001B[0m\u001B[0m\n\u001B[0;32m      7\u001B[0m \u001B[1;31m# Cote-Allard database\u001B[0m\u001B[1;33m\u001B[0m\u001B[1;33m\u001B[0m\u001B[1;33m\u001B[0m\u001B[0m\n",
      "\u001B[1;32m~\\Google Drive (s3758370@student.rmit.edu.au)\\SemiSupervisedLearningEMG\\Experiments\\Experiment1_TimelessDB\\VisualizationFunctions.py\u001B[0m in \u001B[0;36muploadResultsDatabase\u001B[1;34m(folder, database)\u001B[0m\n\u001B[0;32m    181\u001B[0m         \u001B[0mshots\u001B[0m \u001B[1;33m=\u001B[0m \u001B[1;36m25\u001B[0m\u001B[1;33m\u001B[0m\u001B[1;33m\u001B[0m\u001B[0m\n\u001B[0;32m    182\u001B[0m     \u001B[0mplace\u001B[0m \u001B[1;33m=\u001B[0m \u001B[0mfolder\u001B[0m \u001B[1;33m+\u001B[0m \u001B[0mdatabase\u001B[0m\u001B[1;33m\u001B[0m\u001B[1;33m\u001B[0m\u001B[0m\n\u001B[1;32m--> 183\u001B[1;33m     \u001B[0mresultsTest\u001B[0m \u001B[1;33m=\u001B[0m \u001B[0mpd\u001B[0m\u001B[1;33m.\u001B[0m\u001B[0mread_csv\u001B[0m\u001B[1;33m(\u001B[0m\u001B[0mplace\u001B[0m \u001B[1;33m+\u001B[0m \u001B[1;34m\"_FeatureSet_1_startPerson_1_endPerson_1.csv\"\u001B[0m\u001B[1;33m)\u001B[0m\u001B[1;33m\u001B[0m\u001B[1;33m\u001B[0m\u001B[0m\n\u001B[0m\u001B[0;32m    184\u001B[0m     \u001B[1;32mif\u001B[0m \u001B[0mlen\u001B[0m\u001B[1;33m(\u001B[0m\u001B[0mresultsTest\u001B[0m\u001B[1;33m)\u001B[0m \u001B[1;33m!=\u001B[0m \u001B[0msamples\u001B[0m\u001B[1;33m:\u001B[0m\u001B[1;33m\u001B[0m\u001B[1;33m\u001B[0m\u001B[0m\n\u001B[0;32m    185\u001B[0m         \u001B[0mprint\u001B[0m\u001B[1;33m(\u001B[0m\u001B[1;34m'error'\u001B[0m \u001B[1;33m+\u001B[0m \u001B[1;34m' 1'\u001B[0m \u001B[1;33m+\u001B[0m \u001B[1;34m' 1'\u001B[0m\u001B[1;33m)\u001B[0m\u001B[1;33m\u001B[0m\u001B[1;33m\u001B[0m\u001B[0m\n",
      "\u001B[1;32mC:\\ProgramData\\Anaconda3\\lib\\site-packages\\pandas\\io\\parsers.py\u001B[0m in \u001B[0;36mparser_f\u001B[1;34m(filepath_or_buffer, sep, delimiter, header, names, index_col, usecols, squeeze, prefix, mangle_dupe_cols, dtype, engine, converters, true_values, false_values, skipinitialspace, skiprows, skipfooter, nrows, na_values, keep_default_na, na_filter, verbose, skip_blank_lines, parse_dates, infer_datetime_format, keep_date_col, date_parser, dayfirst, cache_dates, iterator, chunksize, compression, thousands, decimal, lineterminator, quotechar, quoting, doublequote, escapechar, comment, encoding, dialect, error_bad_lines, warn_bad_lines, delim_whitespace, low_memory, memory_map, float_precision)\u001B[0m\n\u001B[0;32m    674\u001B[0m         )\n\u001B[0;32m    675\u001B[0m \u001B[1;33m\u001B[0m\u001B[0m\n\u001B[1;32m--> 676\u001B[1;33m         \u001B[1;32mreturn\u001B[0m \u001B[0m_read\u001B[0m\u001B[1;33m(\u001B[0m\u001B[0mfilepath_or_buffer\u001B[0m\u001B[1;33m,\u001B[0m \u001B[0mkwds\u001B[0m\u001B[1;33m)\u001B[0m\u001B[1;33m\u001B[0m\u001B[1;33m\u001B[0m\u001B[0m\n\u001B[0m\u001B[0;32m    677\u001B[0m \u001B[1;33m\u001B[0m\u001B[0m\n\u001B[0;32m    678\u001B[0m     \u001B[0mparser_f\u001B[0m\u001B[1;33m.\u001B[0m\u001B[0m__name__\u001B[0m \u001B[1;33m=\u001B[0m \u001B[0mname\u001B[0m\u001B[1;33m\u001B[0m\u001B[1;33m\u001B[0m\u001B[0m\n",
      "\u001B[1;32mC:\\ProgramData\\Anaconda3\\lib\\site-packages\\pandas\\io\\parsers.py\u001B[0m in \u001B[0;36m_read\u001B[1;34m(filepath_or_buffer, kwds)\u001B[0m\n\u001B[0;32m    446\u001B[0m \u001B[1;33m\u001B[0m\u001B[0m\n\u001B[0;32m    447\u001B[0m     \u001B[1;31m# Create the parser.\u001B[0m\u001B[1;33m\u001B[0m\u001B[1;33m\u001B[0m\u001B[1;33m\u001B[0m\u001B[0m\n\u001B[1;32m--> 448\u001B[1;33m     \u001B[0mparser\u001B[0m \u001B[1;33m=\u001B[0m \u001B[0mTextFileReader\u001B[0m\u001B[1;33m(\u001B[0m\u001B[0mfp_or_buf\u001B[0m\u001B[1;33m,\u001B[0m \u001B[1;33m**\u001B[0m\u001B[0mkwds\u001B[0m\u001B[1;33m)\u001B[0m\u001B[1;33m\u001B[0m\u001B[1;33m\u001B[0m\u001B[0m\n\u001B[0m\u001B[0;32m    449\u001B[0m \u001B[1;33m\u001B[0m\u001B[0m\n\u001B[0;32m    450\u001B[0m     \u001B[1;32mif\u001B[0m \u001B[0mchunksize\u001B[0m \u001B[1;32mor\u001B[0m \u001B[0miterator\u001B[0m\u001B[1;33m:\u001B[0m\u001B[1;33m\u001B[0m\u001B[1;33m\u001B[0m\u001B[0m\n",
      "\u001B[1;32mC:\\ProgramData\\Anaconda3\\lib\\site-packages\\pandas\\io\\parsers.py\u001B[0m in \u001B[0;36m__init__\u001B[1;34m(self, f, engine, **kwds)\u001B[0m\n\u001B[0;32m    878\u001B[0m             \u001B[0mself\u001B[0m\u001B[1;33m.\u001B[0m\u001B[0moptions\u001B[0m\u001B[1;33m[\u001B[0m\u001B[1;34m\"has_index_names\"\u001B[0m\u001B[1;33m]\u001B[0m \u001B[1;33m=\u001B[0m \u001B[0mkwds\u001B[0m\u001B[1;33m[\u001B[0m\u001B[1;34m\"has_index_names\"\u001B[0m\u001B[1;33m]\u001B[0m\u001B[1;33m\u001B[0m\u001B[1;33m\u001B[0m\u001B[0m\n\u001B[0;32m    879\u001B[0m \u001B[1;33m\u001B[0m\u001B[0m\n\u001B[1;32m--> 880\u001B[1;33m         \u001B[0mself\u001B[0m\u001B[1;33m.\u001B[0m\u001B[0m_make_engine\u001B[0m\u001B[1;33m(\u001B[0m\u001B[0mself\u001B[0m\u001B[1;33m.\u001B[0m\u001B[0mengine\u001B[0m\u001B[1;33m)\u001B[0m\u001B[1;33m\u001B[0m\u001B[1;33m\u001B[0m\u001B[0m\n\u001B[0m\u001B[0;32m    881\u001B[0m \u001B[1;33m\u001B[0m\u001B[0m\n\u001B[0;32m    882\u001B[0m     \u001B[1;32mdef\u001B[0m \u001B[0mclose\u001B[0m\u001B[1;33m(\u001B[0m\u001B[0mself\u001B[0m\u001B[1;33m)\u001B[0m\u001B[1;33m:\u001B[0m\u001B[1;33m\u001B[0m\u001B[1;33m\u001B[0m\u001B[0m\n",
      "\u001B[1;32mC:\\ProgramData\\Anaconda3\\lib\\site-packages\\pandas\\io\\parsers.py\u001B[0m in \u001B[0;36m_make_engine\u001B[1;34m(self, engine)\u001B[0m\n\u001B[0;32m   1112\u001B[0m     \u001B[1;32mdef\u001B[0m \u001B[0m_make_engine\u001B[0m\u001B[1;33m(\u001B[0m\u001B[0mself\u001B[0m\u001B[1;33m,\u001B[0m \u001B[0mengine\u001B[0m\u001B[1;33m=\u001B[0m\u001B[1;34m\"c\"\u001B[0m\u001B[1;33m)\u001B[0m\u001B[1;33m:\u001B[0m\u001B[1;33m\u001B[0m\u001B[1;33m\u001B[0m\u001B[0m\n\u001B[0;32m   1113\u001B[0m         \u001B[1;32mif\u001B[0m \u001B[0mengine\u001B[0m \u001B[1;33m==\u001B[0m \u001B[1;34m\"c\"\u001B[0m\u001B[1;33m:\u001B[0m\u001B[1;33m\u001B[0m\u001B[1;33m\u001B[0m\u001B[0m\n\u001B[1;32m-> 1114\u001B[1;33m             \u001B[0mself\u001B[0m\u001B[1;33m.\u001B[0m\u001B[0m_engine\u001B[0m \u001B[1;33m=\u001B[0m \u001B[0mCParserWrapper\u001B[0m\u001B[1;33m(\u001B[0m\u001B[0mself\u001B[0m\u001B[1;33m.\u001B[0m\u001B[0mf\u001B[0m\u001B[1;33m,\u001B[0m \u001B[1;33m**\u001B[0m\u001B[0mself\u001B[0m\u001B[1;33m.\u001B[0m\u001B[0moptions\u001B[0m\u001B[1;33m)\u001B[0m\u001B[1;33m\u001B[0m\u001B[1;33m\u001B[0m\u001B[0m\n\u001B[0m\u001B[0;32m   1115\u001B[0m         \u001B[1;32melse\u001B[0m\u001B[1;33m:\u001B[0m\u001B[1;33m\u001B[0m\u001B[1;33m\u001B[0m\u001B[0m\n\u001B[0;32m   1116\u001B[0m             \u001B[1;32mif\u001B[0m \u001B[0mengine\u001B[0m \u001B[1;33m==\u001B[0m \u001B[1;34m\"python\"\u001B[0m\u001B[1;33m:\u001B[0m\u001B[1;33m\u001B[0m\u001B[1;33m\u001B[0m\u001B[0m\n",
      "\u001B[1;32mC:\\ProgramData\\Anaconda3\\lib\\site-packages\\pandas\\io\\parsers.py\u001B[0m in \u001B[0;36m__init__\u001B[1;34m(self, src, **kwds)\u001B[0m\n\u001B[0;32m   1889\u001B[0m         \u001B[0mkwds\u001B[0m\u001B[1;33m[\u001B[0m\u001B[1;34m\"usecols\"\u001B[0m\u001B[1;33m]\u001B[0m \u001B[1;33m=\u001B[0m \u001B[0mself\u001B[0m\u001B[1;33m.\u001B[0m\u001B[0musecols\u001B[0m\u001B[1;33m\u001B[0m\u001B[1;33m\u001B[0m\u001B[0m\n\u001B[0;32m   1890\u001B[0m \u001B[1;33m\u001B[0m\u001B[0m\n\u001B[1;32m-> 1891\u001B[1;33m         \u001B[0mself\u001B[0m\u001B[1;33m.\u001B[0m\u001B[0m_reader\u001B[0m \u001B[1;33m=\u001B[0m \u001B[0mparsers\u001B[0m\u001B[1;33m.\u001B[0m\u001B[0mTextReader\u001B[0m\u001B[1;33m(\u001B[0m\u001B[0msrc\u001B[0m\u001B[1;33m,\u001B[0m \u001B[1;33m**\u001B[0m\u001B[0mkwds\u001B[0m\u001B[1;33m)\u001B[0m\u001B[1;33m\u001B[0m\u001B[1;33m\u001B[0m\u001B[0m\n\u001B[0m\u001B[0;32m   1892\u001B[0m         \u001B[0mself\u001B[0m\u001B[1;33m.\u001B[0m\u001B[0munnamed_cols\u001B[0m \u001B[1;33m=\u001B[0m \u001B[0mself\u001B[0m\u001B[1;33m.\u001B[0m\u001B[0m_reader\u001B[0m\u001B[1;33m.\u001B[0m\u001B[0munnamed_cols\u001B[0m\u001B[1;33m\u001B[0m\u001B[1;33m\u001B[0m\u001B[0m\n\u001B[0;32m   1893\u001B[0m \u001B[1;33m\u001B[0m\u001B[0m\n",
      "\u001B[1;32mpandas\\_libs\\parsers.pyx\u001B[0m in \u001B[0;36mpandas._libs.parsers.TextReader.__cinit__\u001B[1;34m()\u001B[0m\n",
      "\u001B[1;32mpandas\\_libs\\parsers.pyx\u001B[0m in \u001B[0;36mpandas._libs.parsers.TextReader._setup_parser_source\u001B[1;34m()\u001B[0m\n",
      "\u001B[1;31mFileNotFoundError\u001B[0m: [Errno 2] File ../../../DA-basedAdaptationTechnique/FewShotLearningEMG/Experiments/Experiment1/ResultsExp1/NinaPro5_FeatureSet_1_startPerson_1_endPerson_1.csv does not exist: '../../../DA-basedAdaptationTechnique/FewShotLearningEMG/Experiments/Experiment1/ResultsExp1/NinaPro5_FeatureSet_1_startPerson_1_endPerson_1.csv'"
     ]
    }
   ],
   "source": [
    "place='../../../DA-basedAdaptationTechnique/FewShotLearningEMG/Experiments/Experiment1/ResultsExp1/'\n",
    "\n",
    "# Nina Pro 5 database\n",
    "database='NinaPro5'\n",
    "resultsNinaPro5,timeNinaPro5=VF1.uploadResultsDatabase(place, database)\n",
    "\n",
    "# Cote-Allard database\n",
    "database='Cote'\n",
    "resultsCote,timeCote=VF1.uploadResultsDatabase(place, database)\n",
    "\n",
    "# EPN database\n",
    "database='EPN'\n",
    "resultsEPN,timeEPN=VF1.uploadResultsDatabase(place, database)\n"
   ]
  },
  {
   "cell_type": "markdown",
   "metadata": {
    "pycharm": {
     "name": "#%% md\n"
    }
   },
   "source": [
    "### load data"
   ]
  },
  {
   "cell_type": "code",
   "execution_count": null,
   "metadata": {
    "pycharm": {
     "name": "#%%\n"
    }
   },
   "outputs": [],
   "source": [
    "resultsNina5RQ2= pd.read_csv(\"Nina5_Uns.csv\")\n",
    "resultsCoteRQ2= pd.read_csv(\"Cote_Uns.csv\")\n",
    "resultsEPNRQ2= pd.read_csv(\"EPN_Uns.csv\")\n",
    "\n"
   ]
  },
  {
   "cell_type": "code",
   "execution_count": 8,
   "metadata": {},
   "outputs": [
    {
     "ename": "FileNotFoundError",
     "evalue": "[Errno 2] File ../../../DA-basedAdaptationTechnique/FewShotLearningEMG/Experiments/Experiment1/ResultsExp1/NinaPro5_FeatureSet_1_startPerson_10_endPerson_10.csv does not exist: '../../../DA-basedAdaptationTechnique/FewShotLearningEMG/Experiments/Experiment1/ResultsExp1/NinaPro5_FeatureSet_1_startPerson_10_endPerson_10.csv'",
     "output_type": "error",
     "traceback": [
      "\u001B[1;31m---------------------------------------------------------------------------\u001B[0m",
      "\u001B[1;31mFileNotFoundError\u001B[0m                         Traceback (most recent call last)",
      "\u001B[1;32m<ipython-input-8-66ac0cf4db6f>\u001B[0m in \u001B[0;36m<module>\u001B[1;34m\u001B[0m\n\u001B[1;32m----> 1\u001B[1;33m \u001B[0ma\u001B[0m\u001B[1;33m=\u001B[0m \u001B[0mpd\u001B[0m\u001B[1;33m.\u001B[0m\u001B[0mread_csv\u001B[0m\u001B[1;33m(\u001B[0m\u001B[1;34m\"../../../DA-basedAdaptationTechnique/FewShotLearningEMG/Experiments/Experiment1/ResultsExp1/NinaPro5_FeatureSet_1_startPerson_10_endPerson_10.csv\"\u001B[0m\u001B[1;33m)\u001B[0m\u001B[1;33m\u001B[0m\u001B[1;33m\u001B[0m\u001B[0m\n\u001B[0m",
      "\u001B[1;32mC:\\ProgramData\\Anaconda3\\lib\\site-packages\\pandas\\io\\parsers.py\u001B[0m in \u001B[0;36mparser_f\u001B[1;34m(filepath_or_buffer, sep, delimiter, header, names, index_col, usecols, squeeze, prefix, mangle_dupe_cols, dtype, engine, converters, true_values, false_values, skipinitialspace, skiprows, skipfooter, nrows, na_values, keep_default_na, na_filter, verbose, skip_blank_lines, parse_dates, infer_datetime_format, keep_date_col, date_parser, dayfirst, cache_dates, iterator, chunksize, compression, thousands, decimal, lineterminator, quotechar, quoting, doublequote, escapechar, comment, encoding, dialect, error_bad_lines, warn_bad_lines, delim_whitespace, low_memory, memory_map, float_precision)\u001B[0m\n\u001B[0;32m    674\u001B[0m         )\n\u001B[0;32m    675\u001B[0m \u001B[1;33m\u001B[0m\u001B[0m\n\u001B[1;32m--> 676\u001B[1;33m         \u001B[1;32mreturn\u001B[0m \u001B[0m_read\u001B[0m\u001B[1;33m(\u001B[0m\u001B[0mfilepath_or_buffer\u001B[0m\u001B[1;33m,\u001B[0m \u001B[0mkwds\u001B[0m\u001B[1;33m)\u001B[0m\u001B[1;33m\u001B[0m\u001B[1;33m\u001B[0m\u001B[0m\n\u001B[0m\u001B[0;32m    677\u001B[0m \u001B[1;33m\u001B[0m\u001B[0m\n\u001B[0;32m    678\u001B[0m     \u001B[0mparser_f\u001B[0m\u001B[1;33m.\u001B[0m\u001B[0m__name__\u001B[0m \u001B[1;33m=\u001B[0m \u001B[0mname\u001B[0m\u001B[1;33m\u001B[0m\u001B[1;33m\u001B[0m\u001B[0m\n",
      "\u001B[1;32mC:\\ProgramData\\Anaconda3\\lib\\site-packages\\pandas\\io\\parsers.py\u001B[0m in \u001B[0;36m_read\u001B[1;34m(filepath_or_buffer, kwds)\u001B[0m\n\u001B[0;32m    446\u001B[0m \u001B[1;33m\u001B[0m\u001B[0m\n\u001B[0;32m    447\u001B[0m     \u001B[1;31m# Create the parser.\u001B[0m\u001B[1;33m\u001B[0m\u001B[1;33m\u001B[0m\u001B[1;33m\u001B[0m\u001B[0m\n\u001B[1;32m--> 448\u001B[1;33m     \u001B[0mparser\u001B[0m \u001B[1;33m=\u001B[0m \u001B[0mTextFileReader\u001B[0m\u001B[1;33m(\u001B[0m\u001B[0mfp_or_buf\u001B[0m\u001B[1;33m,\u001B[0m \u001B[1;33m**\u001B[0m\u001B[0mkwds\u001B[0m\u001B[1;33m)\u001B[0m\u001B[1;33m\u001B[0m\u001B[1;33m\u001B[0m\u001B[0m\n\u001B[0m\u001B[0;32m    449\u001B[0m \u001B[1;33m\u001B[0m\u001B[0m\n\u001B[0;32m    450\u001B[0m     \u001B[1;32mif\u001B[0m \u001B[0mchunksize\u001B[0m \u001B[1;32mor\u001B[0m \u001B[0miterator\u001B[0m\u001B[1;33m:\u001B[0m\u001B[1;33m\u001B[0m\u001B[1;33m\u001B[0m\u001B[0m\n",
      "\u001B[1;32mC:\\ProgramData\\Anaconda3\\lib\\site-packages\\pandas\\io\\parsers.py\u001B[0m in \u001B[0;36m__init__\u001B[1;34m(self, f, engine, **kwds)\u001B[0m\n\u001B[0;32m    878\u001B[0m             \u001B[0mself\u001B[0m\u001B[1;33m.\u001B[0m\u001B[0moptions\u001B[0m\u001B[1;33m[\u001B[0m\u001B[1;34m\"has_index_names\"\u001B[0m\u001B[1;33m]\u001B[0m \u001B[1;33m=\u001B[0m \u001B[0mkwds\u001B[0m\u001B[1;33m[\u001B[0m\u001B[1;34m\"has_index_names\"\u001B[0m\u001B[1;33m]\u001B[0m\u001B[1;33m\u001B[0m\u001B[1;33m\u001B[0m\u001B[0m\n\u001B[0;32m    879\u001B[0m \u001B[1;33m\u001B[0m\u001B[0m\n\u001B[1;32m--> 880\u001B[1;33m         \u001B[0mself\u001B[0m\u001B[1;33m.\u001B[0m\u001B[0m_make_engine\u001B[0m\u001B[1;33m(\u001B[0m\u001B[0mself\u001B[0m\u001B[1;33m.\u001B[0m\u001B[0mengine\u001B[0m\u001B[1;33m)\u001B[0m\u001B[1;33m\u001B[0m\u001B[1;33m\u001B[0m\u001B[0m\n\u001B[0m\u001B[0;32m    881\u001B[0m \u001B[1;33m\u001B[0m\u001B[0m\n\u001B[0;32m    882\u001B[0m     \u001B[1;32mdef\u001B[0m \u001B[0mclose\u001B[0m\u001B[1;33m(\u001B[0m\u001B[0mself\u001B[0m\u001B[1;33m)\u001B[0m\u001B[1;33m:\u001B[0m\u001B[1;33m\u001B[0m\u001B[1;33m\u001B[0m\u001B[0m\n",
      "\u001B[1;32mC:\\ProgramData\\Anaconda3\\lib\\site-packages\\pandas\\io\\parsers.py\u001B[0m in \u001B[0;36m_make_engine\u001B[1;34m(self, engine)\u001B[0m\n\u001B[0;32m   1112\u001B[0m     \u001B[1;32mdef\u001B[0m \u001B[0m_make_engine\u001B[0m\u001B[1;33m(\u001B[0m\u001B[0mself\u001B[0m\u001B[1;33m,\u001B[0m \u001B[0mengine\u001B[0m\u001B[1;33m=\u001B[0m\u001B[1;34m\"c\"\u001B[0m\u001B[1;33m)\u001B[0m\u001B[1;33m:\u001B[0m\u001B[1;33m\u001B[0m\u001B[1;33m\u001B[0m\u001B[0m\n\u001B[0;32m   1113\u001B[0m         \u001B[1;32mif\u001B[0m \u001B[0mengine\u001B[0m \u001B[1;33m==\u001B[0m \u001B[1;34m\"c\"\u001B[0m\u001B[1;33m:\u001B[0m\u001B[1;33m\u001B[0m\u001B[1;33m\u001B[0m\u001B[0m\n\u001B[1;32m-> 1114\u001B[1;33m             \u001B[0mself\u001B[0m\u001B[1;33m.\u001B[0m\u001B[0m_engine\u001B[0m \u001B[1;33m=\u001B[0m \u001B[0mCParserWrapper\u001B[0m\u001B[1;33m(\u001B[0m\u001B[0mself\u001B[0m\u001B[1;33m.\u001B[0m\u001B[0mf\u001B[0m\u001B[1;33m,\u001B[0m \u001B[1;33m**\u001B[0m\u001B[0mself\u001B[0m\u001B[1;33m.\u001B[0m\u001B[0moptions\u001B[0m\u001B[1;33m)\u001B[0m\u001B[1;33m\u001B[0m\u001B[1;33m\u001B[0m\u001B[0m\n\u001B[0m\u001B[0;32m   1115\u001B[0m         \u001B[1;32melse\u001B[0m\u001B[1;33m:\u001B[0m\u001B[1;33m\u001B[0m\u001B[1;33m\u001B[0m\u001B[0m\n\u001B[0;32m   1116\u001B[0m             \u001B[1;32mif\u001B[0m \u001B[0mengine\u001B[0m \u001B[1;33m==\u001B[0m \u001B[1;34m\"python\"\u001B[0m\u001B[1;33m:\u001B[0m\u001B[1;33m\u001B[0m\u001B[1;33m\u001B[0m\u001B[0m\n",
      "\u001B[1;32mC:\\ProgramData\\Anaconda3\\lib\\site-packages\\pandas\\io\\parsers.py\u001B[0m in \u001B[0;36m__init__\u001B[1;34m(self, src, **kwds)\u001B[0m\n\u001B[0;32m   1889\u001B[0m         \u001B[0mkwds\u001B[0m\u001B[1;33m[\u001B[0m\u001B[1;34m\"usecols\"\u001B[0m\u001B[1;33m]\u001B[0m \u001B[1;33m=\u001B[0m \u001B[0mself\u001B[0m\u001B[1;33m.\u001B[0m\u001B[0musecols\u001B[0m\u001B[1;33m\u001B[0m\u001B[1;33m\u001B[0m\u001B[0m\n\u001B[0;32m   1890\u001B[0m \u001B[1;33m\u001B[0m\u001B[0m\n\u001B[1;32m-> 1891\u001B[1;33m         \u001B[0mself\u001B[0m\u001B[1;33m.\u001B[0m\u001B[0m_reader\u001B[0m \u001B[1;33m=\u001B[0m \u001B[0mparsers\u001B[0m\u001B[1;33m.\u001B[0m\u001B[0mTextReader\u001B[0m\u001B[1;33m(\u001B[0m\u001B[0msrc\u001B[0m\u001B[1;33m,\u001B[0m \u001B[1;33m**\u001B[0m\u001B[0mkwds\u001B[0m\u001B[1;33m)\u001B[0m\u001B[1;33m\u001B[0m\u001B[1;33m\u001B[0m\u001B[0m\n\u001B[0m\u001B[0;32m   1892\u001B[0m         \u001B[0mself\u001B[0m\u001B[1;33m.\u001B[0m\u001B[0munnamed_cols\u001B[0m \u001B[1;33m=\u001B[0m \u001B[0mself\u001B[0m\u001B[1;33m.\u001B[0m\u001B[0m_reader\u001B[0m\u001B[1;33m.\u001B[0m\u001B[0munnamed_cols\u001B[0m\u001B[1;33m\u001B[0m\u001B[1;33m\u001B[0m\u001B[0m\n\u001B[0;32m   1893\u001B[0m \u001B[1;33m\u001B[0m\u001B[0m\n",
      "\u001B[1;32mpandas\\_libs\\parsers.pyx\u001B[0m in \u001B[0;36mpandas._libs.parsers.TextReader.__cinit__\u001B[1;34m()\u001B[0m\n",
      "\u001B[1;32mpandas\\_libs\\parsers.pyx\u001B[0m in \u001B[0;36mpandas._libs.parsers.TextReader._setup_parser_source\u001B[1;34m()\u001B[0m\n",
      "\u001B[1;31mFileNotFoundError\u001B[0m: [Errno 2] File ../../../DA-basedAdaptationTechnique/FewShotLearningEMG/Experiments/Experiment1/ResultsExp1/NinaPro5_FeatureSet_1_startPerson_10_endPerson_10.csv does not exist: '../../../DA-basedAdaptationTechnique/FewShotLearningEMG/Experiments/Experiment1/ResultsExp1/NinaPro5_FeatureSet_1_startPerson_10_endPerson_10.csv'"
     ]
    }
   ],
   "source": [
    "a= pd.read_csv(\"../../../DA-basedAdaptationTechnique/FewShotLearningEMG/Experiments/Experiment1/ResultsExp1/NinaPro5_FeatureSet_1_startPerson_10_endPerson_10.csv\")"
   ]
  },
  {
   "cell_type": "markdown",
   "metadata": {},
   "source": [
    "## One Shot\n",
    "### LDA"
   ]
  },
  {
   "cell_type": "code",
   "execution_count": null,
   "metadata": {
    "pycharm": {
     "name": "#%%\n"
    }
   },
   "outputs": [],
   "source": [
    "Nina5=resultsNinaPro5['LDA_Ind'].loc[(resultsNinaPro5['Feature Set']==1)&(resultsNinaPro5['# shots'].isin([1,2,3,4]))].to_numpy()\n",
    "Cote=resultsCote['LDA_Ind'].loc[(resultsCote['Feature Set']==1)&(resultsCote['# shots'].isin([1,2,3,4]))].to_numpy()\n",
    "EPN=resultsEPN['LDA_Ind'].loc[(resultsEPN['Feature Set']==1)&(resultsEPN['# shots'].isin([*range(1,26)]))].to_numpy()\n",
    "Nina5_Prop=resultsNinaPro5['PropQ_L'].loc[(resultsNinaPro5['Feature Set']==1)&(resultsNinaPro5['# shots'].isin([1,2,3,4]))].to_numpy()\n",
    "Cote_Prop=resultsCote['PropQ_L'].loc[(resultsCote['Feature Set']==1)&(resultsCote['# shots'].isin([1,2,3,4]))].to_numpy()\n",
    "EPN_Prop=resultsEPN['PropQ_L'].loc[(resultsEPN['Feature Set']==1)&(resultsEPN['# shots'].isin([*range(1,26)]))].to_numpy()"
   ]
  },
  {
   "cell_type": "code",
   "execution_count": null,
   "metadata": {
    "pycharm": {
     "name": "#%%\n"
    }
   },
   "outputs": [],
   "source": [
    "Nina5RQ2=np.zeros(4)\n",
    "CoteRQ2=np.zeros(4)\n",
    "EPNRQ2=np.zeros(25)\n",
    "Nina5RQ2[0]=resultsNina5RQ2['AccLDAInd'].loc[resultsNina5RQ2['# shots']==1].mean()\n",
    "CoteRQ2[0]=resultsCoteRQ2['AccLDAInd'].loc[resultsCoteRQ2['# shots']==1].mean()\n",
    "EPNRQ2[0]=resultsEPNRQ2['AccLDAInd'].loc[resultsEPNRQ2['# shots']==1].mean()\n",
    "\n",
    "for i in range(1,4):\n",
    "    Nina5RQ2[i]=resultsNina5RQ2['AccLDAProp'].loc[resultsNina5RQ2['# shots']==i].mean()\n",
    "    CoteRQ2[i]=resultsCoteRQ2['AccLDAProp'].loc[resultsCoteRQ2['# shots']==i].mean()\n",
    "    EPNRQ2[i]=resultsEPNRQ2['AccLDAProp'].loc[resultsEPNRQ2['# shots']==i].mean()\n",
    "\n",
    "for i in range(4,25):\n",
    "    EPNRQ2[i]=resultsEPNRQ2['AccLDAProp'].loc[resultsEPNRQ2['# shots']==i].mean()\n",
    "\n",
    "shot=1\n",
    "Nina5=np.ones(4)*Nina5[shot-1]\n",
    "Cote=np.ones(4)*Cote[shot-1]\n",
    "EPN=np.ones(25)*EPN[shot-1]\n",
    "\n",
    "Nina5_Prop=np.ones(4)*Nina5_Prop[shot-1]\n",
    "Cote_Prop=np.ones(4)*Cote_Prop[shot-1]\n",
    "EPN_Prop=np.ones(25)*EPN_Prop[shot-1]\n",
    "\n",
    "\n",
    "x=[1,2,3,4]\n",
    "plt.plot(x,Nina5RQ2,label='Nina5_Un')\n",
    "plt.plot(x,Nina5,label='Nina5')\n",
    "plt.plot(x,Nina5_Prop,label='Nina5_Sup')\n",
    "plt.xlabel('shots')\n",
    "plt.ylabel('Acc')\n",
    "plt.title('Nina5')\n",
    "plt.legend()\n",
    "plt.show()\n",
    "\n",
    "plt.plot(x,CoteRQ2,label='Cote_Un')\n",
    "plt.plot(x,Cote,label='Cote')\n",
    "plt.plot(x,Cote_Prop,label='Cote_Sup')\n",
    "plt.xlabel('shots')\n",
    "plt.ylabel('Acc')\n",
    "plt.title('Cote')\n",
    "plt.legend()\n",
    "plt.show()\n",
    "\n",
    "x=[*range(1,26)]\n",
    "plt.plot(x,EPNRQ2,label='EPN_Un')\n",
    "plt.plot(x,EPN,label='EPN')\n",
    "plt.plot(x,EPN_Prop,label='EPN_sup')\n",
    "plt.xlabel('shots')\n",
    "plt.ylabel('Acc')\n",
    "plt.title('EPN')\n",
    "plt.legend()\n",
    "plt.show()\n",
    "\n",
    "\n",
    "\n",
    "\n"
   ]
  },
  {
   "cell_type": "markdown",
   "metadata": {},
   "source": [
    "## One Shot\n",
    "### QDA"
   ]
  },
  {
   "cell_type": "code",
   "execution_count": null,
   "metadata": {
    "pycharm": {
     "name": "#%%\n"
    }
   },
   "outputs": [],
   "source": [
    "Nina5=resultsNinaPro5['QDA_Ind'].loc[(resultsNinaPro5['Feature Set']==1)&(resultsNinaPro5['# shots'].isin([1,2,3,4]))].to_numpy()\n",
    "Cote=resultsCote['QDA_Ind'].loc[(resultsCote['Feature Set']==1)&(resultsCote['# shots'].isin([1,2,3,4]))].to_numpy()\n",
    "EPN=resultsEPN['QDA_Ind'].loc[(resultsEPN['Feature Set']==1)&(resultsEPN['# shots'].isin([*range(1,26)]))].to_numpy()\n",
    "Nina5_Prop=resultsNinaPro5['PropQ'].loc[(resultsNinaPro5['Feature Set']==1)&(resultsNinaPro5['# shots'].isin([1,2,3,4]))].to_numpy()\n",
    "Cote_Prop=resultsCote['PropQ'].loc[(resultsCote['Feature Set']==1)&(resultsCote['# shots'].isin([1,2,3,4]))].to_numpy()\n",
    "EPN_Prop=resultsEPN['PropQ'].loc[(resultsEPN['Feature Set']==1)&(resultsEPN['# shots'].isin([*range(1,26)]))].to_numpy()\n"
   ]
  },
  {
   "cell_type": "code",
   "execution_count": null,
   "metadata": {
    "pycharm": {
     "name": "#%%\n"
    }
   },
   "outputs": [],
   "source": [
    "Nina5RQ2=np.zeros(4)\n",
    "CoteRQ2=np.zeros(4)\n",
    "EPNRQ2=np.zeros(25)\n",
    "Nina5RQ2[0]=resultsNina5RQ2['AccQDAInd'].loc[resultsNina5RQ2['# shots']==1].mean()\n",
    "CoteRQ2[0]=resultsCoteRQ2['AccQDAInd'].loc[resultsCoteRQ2['# shots']==1].mean()\n",
    "EPNRQ2[0]=resultsEPNRQ2['AccQDAInd'].loc[resultsEPNRQ2['# shots']==1].mean()\n",
    "\n",
    "for i in range(1,4):\n",
    "    Nina5RQ2[i]=resultsNina5RQ2['AccQDAProp'].loc[resultsNina5RQ2['# shots']==i].mean()\n",
    "    CoteRQ2[i]=resultsCoteRQ2['AccQDAProp'].loc[resultsCoteRQ2['# shots']==i].mean()\n",
    "    EPNRQ2[i]=resultsEPNRQ2['AccQDAProp'].loc[resultsEPNRQ2['# shots']==i].mean()\n",
    "\n",
    "for i in range(4,25):\n",
    "    EPNRQ2[i]=resultsEPNRQ2['AccQDAProp'].loc[resultsEPNRQ2['# shots']==i].mean()\n",
    "\n",
    "shot=1\n",
    "Nina5=np.ones(4)*Nina5[shot-1]\n",
    "Cote=np.ones(4)*Cote[shot-1]\n",
    "EPN=np.ones(25)*EPN[shot-1]\n",
    "\n",
    "Nina5_Prop=np.ones(4)*Nina5_Prop[shot-1]\n",
    "Cote_Prop=np.ones(4)*Cote_Prop[shot-1]\n",
    "EPN_Prop=np.ones(25)*EPN_Prop[shot-1]\n",
    "\n",
    "\n",
    "x=[1,2,3,4]\n",
    "plt.plot(x,Nina5RQ2,label='Nina5_Un')\n",
    "plt.plot(x,Nina5,label='Nina5')\n",
    "plt.plot(x,Nina5_Prop,label='Nina5_Sup')\n",
    "plt.xlabel('shots')\n",
    "plt.ylabel('Acc')\n",
    "plt.title('Nina5')\n",
    "plt.legend()\n",
    "plt.show()\n",
    "\n",
    "plt.plot(x,CoteRQ2,label='Cote_Un')\n",
    "plt.plot(x,Cote,label='Cote')\n",
    "plt.plot(x,Cote_Prop,label='Cote_Sup')\n",
    "plt.xlabel('shots')\n",
    "plt.ylabel('Acc')\n",
    "plt.title('Cote')\n",
    "plt.legend()\n",
    "plt.show()\n",
    "\n",
    "x=[*range(1,26)]\n",
    "plt.plot(x,EPNRQ2,label='EPN_Un')\n",
    "plt.plot(x,EPN,label='EPN')\n",
    "plt.plot(x,EPN_Prop,label='EPN_sup')\n",
    "plt.xlabel('shots')\n",
    "plt.ylabel('Acc')\n",
    "plt.title('EPN')\n",
    "plt.legend()\n",
    "plt.show()\n"
   ]
  },
  {
   "cell_type": "markdown",
   "metadata": {},
   "source": [
    "## Two Shot\n",
    "### LDA"
   ]
  },
  {
   "cell_type": "code",
   "execution_count": null,
   "metadata": {
    "pycharm": {
     "name": "#%%\n"
    }
   },
   "outputs": [],
   "source": [
    "resultsNina5RQ2_2= pd.read_csv(\"Nina5_Uns_2Shots.csv\")\n",
    "resultsNina5RQ2= pd.read_csv(\"Nina5_Uns.csv\")\n",
    "resultsCoteRQ2_2= pd.read_csv(\"Cote_Uns_2Shots.csv\")\n",
    "resultsCoteRQ2= pd.read_csv(\"Cote_Uns.csv\")\n",
    "resultsEPNRQ2_2= pd.read_csv(\"EPN_Uns_2Shots.csv\")\n",
    "resultsEPNRQ2= pd.read_csv(\"EPN_Uns.csv\")"
   ]
  },
  {
   "cell_type": "code",
   "execution_count": null,
   "metadata": {
    "pycharm": {
     "name": "#%%\n"
    }
   },
   "outputs": [],
   "source": [
    "Nina5=resultsNinaPro5['LDA_Ind'].loc[(resultsNinaPro5['Feature Set']==1)&(resultsNinaPro5['# shots'].isin([1,2,3,4]))].to_numpy()\n",
    "Cote=resultsCote['LDA_Ind'].loc[(resultsCote['Feature Set']==1)&(resultsCote['# shots'].isin([1,2,3,4]))].to_numpy()\n",
    "EPN=resultsEPN['LDA_Ind'].loc[(resultsEPN['Feature Set']==1)&(resultsEPN['# shots'].isin([*range(1,26)]))].to_numpy()\n",
    "Nina5_Prop=resultsNinaPro5['PropQ_L'].loc[(resultsNinaPro5['Feature Set']==1)&(resultsNinaPro5['# shots'].isin([1,2,3,4]))].to_numpy()\n",
    "Cote_Prop=resultsCote['PropQ_L'].loc[(resultsCote['Feature Set']==1)&(resultsCote['# shots'].isin([1,2,3,4]))].to_numpy()\n",
    "EPN_Prop=resultsEPN['PropQ_L'].loc[(resultsEPN['Feature Set']==1)&(resultsEPN['# shots'].isin([*range(1,26)]))].to_numpy()\n"
   ]
  },
  {
   "cell_type": "code",
   "execution_count": null,
   "metadata": {
    "pycharm": {
     "name": "#%%\n"
    }
   },
   "outputs": [],
   "source": [
    "Nina5RQ2=np.zeros(4)\n",
    "CoteRQ2=np.zeros(4)\n",
    "EPNRQ2=np.zeros(25)\n",
    "Nina5RQ2[0]=resultsNina5RQ2['AccLDAInd'].loc[resultsNina5RQ2['# shots']==1].mean()\n",
    "CoteRQ2[0]=resultsCoteRQ2['AccLDAInd'].loc[resultsCoteRQ2['# shots']==1].mean()\n",
    "EPNRQ2[0]=resultsEPNRQ2['AccLDAInd'].loc[resultsEPNRQ2['# shots']==1].mean()\n",
    "\n",
    "for i in range(1,4):\n",
    "    Nina5RQ2[i]=resultsNina5RQ2['AccLDAProp'].loc[resultsNina5RQ2['# shots']==i].mean()\n",
    "    CoteRQ2[i]=resultsCoteRQ2['AccLDAProp'].loc[resultsCoteRQ2['# shots']==i].mean()\n",
    "    EPNRQ2[i]=resultsEPNRQ2['AccLDAProp'].loc[resultsEPNRQ2['# shots']==i].mean()\n",
    "\n",
    "for i in range(4,25):\n",
    "    EPNRQ2[i]=resultsEPNRQ2['AccLDAProp'].loc[resultsEPNRQ2['# shots']==i].mean()\n",
    "\n",
    "\n",
    "Nina5RQ2_2=np.zeros(3)\n",
    "CoteRQ2_2=np.zeros(3)\n",
    "EPNRQ2_2=np.zeros(24)\n",
    "\n",
    "Nina5RQ2_2[0]=resultsNina5RQ2_2['AccLDAInd'].loc[resultsNina5RQ2_2['# shots']==1].mean()\n",
    "CoteRQ2_2[0]=resultsCoteRQ2_2['AccLDAInd'].loc[resultsCoteRQ2_2['# shots']==1].mean()\n",
    "EPNRQ2_2[0]=resultsEPNRQ2_2['AccLDAInd'].loc[resultsEPNRQ2_2['# shots']==1].mean()\n",
    "\n",
    "\n",
    "for i in range(1,3):\n",
    "    Nina5RQ2_2[i]=resultsNina5RQ2_2['AccLDAProp'].loc[resultsNina5RQ2_2['# shots']==i].mean()\n",
    "    CoteRQ2_2[i]=resultsCoteRQ2_2['AccLDAProp'].loc[resultsCoteRQ2_2['# shots']==i].mean()\n",
    "    EPNRQ2_2[i]=resultsEPNRQ2_2['AccLDAProp'].loc[resultsEPNRQ2_2['# shots']==i].mean()\n",
    "\n",
    "for i in range(3,24):\n",
    "    EPNRQ2_2[i]=resultsEPNRQ2_2['AccLDAProp'].loc[resultsEPNRQ2_2['# shots']==i].mean()\n",
    "\n",
    "shot=2\n",
    "Nina5=np.hstack((Nina5[0],np.ones(3)*Nina5[shot-1]))\n",
    "Cote=np.hstack((Cote[0],np.ones(3)*Cote[shot-1]))\n",
    "EPN=np.hstack((EPN[0],np.ones(24)*EPN[shot-1]))\n",
    "\n",
    "Nina5_Prop=np.hstack((Nina5_Prop[0],np.ones(3)*Nina5_Prop[shot-1]))\n",
    "Cote_Prop=np.hstack((Cote_Prop[0],np.ones(3)*Cote_Prop[shot-1]))\n",
    "EPN_Prop=np.hstack((EPN_Prop[0],np.ones(24)*EPN_Prop[shot-1]))\n",
    "\n",
    "\n",
    "x=[1,2,3,4]\n",
    "x2=[2,3,4]\n",
    "\n",
    "plt.plot(x2,Nina5RQ2_2,label='Nina5_Un_2Shots')\n",
    "plt.plot(x,Nina5,label='Nina5')\n",
    "plt.plot(x,Nina5_Prop,label='Nina5_Sup')\n",
    "# plt.plot(x,Nina5RQ2,label='Nina5_Un')\n",
    "plt.xlabel('shots')\n",
    "plt.ylabel('Acc')\n",
    "plt.title('Nina5')\n",
    "plt.legend()\n",
    "plt.show()\n",
    "\n",
    "plt.plot(x2,CoteRQ2_2,label='Cote_Un_2Shots')\n",
    "plt.plot(x,Cote,label='Cote')\n",
    "plt.plot(x,Cote_Prop,label='Cote_Sup')\n",
    "# plt.plot(x,CoteRQ2,label='Cote_Un')\n",
    "\n",
    "plt.xlabel('shots')\n",
    "plt.ylabel('Acc')\n",
    "plt.title('Cote')\n",
    "plt.legend()\n",
    "plt.show()\n",
    "\n",
    "x=[*range(1,26)]\n",
    "x2=[*range(2,26)]\n",
    "plt.plot(x2,EPNRQ2_2,label='EPN_Un_2Shots')\n",
    "plt.plot(x,EPN,label='EPN')\n",
    "plt.plot(x,EPN_Prop,label='EPN_Sup')\n",
    "# plt.plot(x,EPNRQ2,label='EPN_Un')\n",
    "plt.xlabel('shots')\n",
    "plt.ylabel('Acc')\n",
    "plt.title('EPN')\n",
    "plt.legend()\n",
    "plt.show()\n",
    "\n"
   ]
  },
  {
   "cell_type": "markdown",
   "metadata": {},
   "source": [
    "## Two Shot\n",
    "### QDA"
   ]
  },
  {
   "cell_type": "code",
   "execution_count": null,
   "metadata": {
    "pycharm": {
     "name": "#%%\n"
    }
   },
   "outputs": [],
   "source": [
    "Nina5=resultsNinaPro5['QDA_Ind'].loc[(resultsNinaPro5['Feature Set']==1)&(resultsNinaPro5['# shots'].isin([1,2,3,4]))].to_numpy()\n",
    "Cote=resultsCote['QDA_Ind'].loc[(resultsCote['Feature Set']==1)&(resultsCote['# shots'].isin([1,2,3,4]))].to_numpy()\n",
    "EPN=resultsEPN['QDA_Ind'].loc[(resultsEPN['Feature Set']==1)&(resultsEPN['# shots'].isin([*range(1,26)]))].to_numpy()\n",
    "Nina5_Prop=resultsNinaPro5['PropQ'].loc[(resultsNinaPro5['Feature Set']==1)&(resultsNinaPro5['# shots'].isin([1,2,3,4]))].to_numpy()\n",
    "Cote_Prop=resultsCote['PropQ'].loc[(resultsCote['Feature Set']==1)&(resultsCote['# shots'].isin([1,2,3,4]))].to_numpy()\n",
    "EPN_Prop=resultsEPN['PropQ'].loc[(resultsEPN['Feature Set']==1)&(resultsEPN['# shots'].isin([*range(1,26)]))].to_numpy()"
   ]
  },
  {
   "cell_type": "code",
   "execution_count": null,
   "metadata": {
    "pycharm": {
     "name": "#%%\n"
    }
   },
   "outputs": [],
   "source": [
    "Nina5RQ2=np.zeros(4)\n",
    "CoteRQ2=np.zeros(4)\n",
    "EPNRQ2=np.zeros(25)\n",
    "Nina5RQ2[0]=resultsNina5RQ2['AccQDAInd'].loc[resultsNina5RQ2['# shots']==1].mean()\n",
    "CoteRQ2[0]=resultsCoteRQ2['AccQDAInd'].loc[resultsCoteRQ2['# shots']==1].mean()\n",
    "EPNRQ2[0]=resultsEPNRQ2['AccQDAInd'].loc[resultsEPNRQ2['# shots']==1].mean()\n",
    "\n",
    "for i in range(1,4):\n",
    "    Nina5RQ2[i]=resultsNina5RQ2['AccQDAProp'].loc[resultsNina5RQ2['# shots']==i].mean()\n",
    "    CoteRQ2[i]=resultsCoteRQ2['AccQDAProp'].loc[resultsCoteRQ2['# shots']==i].mean()\n",
    "    EPNRQ2[i]=resultsEPNRQ2['AccQDAProp'].loc[resultsEPNRQ2['# shots']==i].mean()\n",
    "\n",
    "for i in range(4,25):\n",
    "    EPNRQ2[i]=resultsEPNRQ2['AccQDAProp'].loc[resultsEPNRQ2['# shots']==i].mean()\n",
    "\n",
    "Nina5RQ2_2=np.zeros(3)\n",
    "CoteRQ2_2=np.zeros(3)\n",
    "EPNRQ2_2=np.zeros(24)\n",
    "\n",
    "Nina5RQ2_2[0]=resultsNina5RQ2_2['AccQDAInd'].loc[resultsNina5RQ2_2['# shots']==1].mean()\n",
    "CoteRQ2_2[0]=resultsCoteRQ2_2['AccQDAInd'].loc[resultsCoteRQ2_2['# shots']==1].mean()\n",
    "EPNRQ2_2[0]=resultsEPNRQ2_2['AccQDAInd'].loc[resultsEPNRQ2_2['# shots']==1].mean()\n",
    "\n",
    "\n",
    "for i in range(1,3):\n",
    "    Nina5RQ2_2[i]=resultsNina5RQ2_2['AccQDAProp'].loc[resultsNina5RQ2_2['# shots']==i].mean()\n",
    "    CoteRQ2_2[i]=resultsCoteRQ2_2['AccQDAProp'].loc[resultsCoteRQ2_2['# shots']==i].mean()\n",
    "    EPNRQ2_2[i]=resultsEPNRQ2_2['AccQDAProp'].loc[resultsEPNRQ2_2['# shots']==i].mean()\n",
    "\n",
    "for i in range(3,24):\n",
    "    EPNRQ2_2[i]=resultsEPNRQ2_2['AccQDAProp'].loc[resultsEPNRQ2_2['# shots']==i].mean()\n",
    "\n",
    "shot=2\n",
    "Nina5=np.hstack((Nina5[0],np.ones(3)*Nina5[shot-1]))\n",
    "Cote=np.hstack((Cote[0],np.ones(3)*Cote[shot-1]))\n",
    "EPN=np.hstack((EPN[0],np.ones(24)*EPN[shot-1]))\n",
    "\n",
    "Nina5_Prop=np.hstack((Nina5_Prop[0],np.ones(3)*Nina5_Prop[shot-1]))\n",
    "Cote_Prop=np.hstack((Cote_Prop[0],np.ones(3)*Cote_Prop[shot-1]))\n",
    "EPN_Prop=np.hstack((EPN_Prop[0],np.ones(24)*EPN_Prop[shot-1]))\n",
    "\n",
    "\n",
    "x=[1,2,3,4]\n",
    "x2=[2,3,4]\n",
    "\n",
    "plt.plot(x2,Nina5RQ2_2,label='Nina5_Un_2Shots')\n",
    "plt.plot(x,Nina5,label='Nina5')\n",
    "plt.plot(x,Nina5_Prop,label='Nina5_Sup')\n",
    "# plt.plot(x,Nina5RQ2,label='Nina5_Un')\n",
    "plt.xlabel('shots')\n",
    "plt.ylabel('Acc')\n",
    "plt.title('Nina5')\n",
    "plt.legend()\n",
    "plt.show()\n",
    "\n",
    "plt.plot(x2,CoteRQ2_2,label='Cote_Un_2Shots')\n",
    "plt.plot(x,Cote,label='Cote')\n",
    "plt.plot(x,Cote_Prop,label='Cote_Sup')\n",
    "# plt.plot(x,CoteRQ2,label='Cote_Un')\n",
    "\n",
    "plt.xlabel('shots')\n",
    "plt.ylabel('Acc')\n",
    "plt.title('Cote')\n",
    "plt.legend()\n",
    "plt.show()\n",
    "\n",
    "x=[*range(1,26)]\n",
    "x2=[*range(2,26)]\n",
    "plt.plot(x2,EPNRQ2_2,label='EPN_Un_2Shots')\n",
    "plt.plot(x,EPN,label='EPN')\n",
    "plt.plot(x,EPN_Prop,label='EPN_Sup')\n",
    "# plt.plot(x,EPNRQ2,label='EPN_Un')\n",
    "plt.xlabel('shots')\n",
    "plt.ylabel('Acc')\n",
    "plt.title('EPN')\n",
    "plt.legend()\n",
    "plt.show()\n",
    "\n"
   ]
  },
  {
   "cell_type": "code",
   "execution_count": null,
   "metadata": {},
   "outputs": [],
   "source": [
    "pd.'Cote_FeatureSet_1_startPerson_20_endPerson_36_shotStart_1'"
   ]
  }
 ],
 "metadata": {
  "colab": {
   "name": "Experiment1_CoteAllard_NoSeg.ipynb",
   "provenance": [],
   "toc_visible": true
  },
  "kernelspec": {
   "display_name": "Python 3",
   "language": "python",
   "name": "python3"
  },
  "language_info": {
   "codemirror_mode": {
    "name": "ipython",
    "version": 3
   },
   "file_extension": ".py",
   "mimetype": "text/x-python",
   "name": "python",
   "nbconvert_exporter": "python",
   "pygments_lexer": "ipython3",
   "version": "3.7.7"
  }
 },
 "nbformat": 4,
 "nbformat_minor": 1
}